{
 "cells": [
  {
   "cell_type": "markdown",
   "metadata": {},
   "source": [
    "Nama : Hizkya Firstadipa Hartoko\n",
    "\n",
    "NIM : 20/455447/PA/19662\n",
    "\n",
    "Kelas : KOMB Metode Numerik"
   ]
  },
  {
   "cell_type": "code",
   "execution_count": 5,
   "metadata": {},
   "outputs": [
    {
     "name": "stdout",
     "output_type": "stream",
     "text": [
      "2\n",
      "3\n",
      "5\n"
     ]
    }
   ],
   "source": [
    "NIM = 455447\n",
    "print(NIM % 3)\n",
    "print(NIM % 4)\n",
    "print(NIM % 6)"
   ]
  },
  {
   "cell_type": "markdown",
   "metadata": {},
   "source": [
    "Equation: 3rd Equation\n",
    "\n",
    "Method : 4th Method\n",
    "\n",
    "Initial points: X1 = -8, X2 = 8"
   ]
  },
  {
   "cell_type": "code",
   "execution_count": 6,
   "metadata": {},
   "outputs": [
    {
     "data": {
      "text/plain": [
       "['x^3-10^2-25*x+250']"
      ]
     },
     "execution_count": 6,
     "metadata": {},
     "output_type": "execute_result"
    }
   ],
   "source": [
    "equation = 'x^3-10^2-25*x+250'\n"
   ]
  },
  {
   "cell_type": "code",
   "execution_count": 18,
   "metadata": {},
   "outputs": [],
   "source": [
    "def getInputEquation(equation):\n",
    "    mEq = list(equation)\n",
    "    ops = ['^','-','+','%','*','/']\n",
    "    operator = []\n",
    "    for i in range(len(mEq)):\n",
    "        if mEq[i] in ops:\n",
    "            operator.append(mEq[i])\n",
    "            mEq[i] = ' '\n",
    "\n",
    "    operand = \"\".join(mEq)\n",
    "    operand = operand.split()\n",
    "\n",
    "    mEq = []\n",
    "    if len(operator) == len(operand):\n",
    "        mEq.append(operator[0])\n",
    "        mEq.append(operand[0])\n",
    "    else :\n",
    "        mEq.append(operand[0])\n",
    "        \n",
    "    for i in range(len(operand)):\n",
    "        if operation[]\n",
    "        mEq\n",
    "\n",
    "    eq_data = []\n",
    "    c = 0\n",
    "    \n",
    "    i = 0\n",
    "    operation = {\n",
    "        'coef': 1,\n",
    "        'exp': 1,\n",
    "        'const': 0,\n",
    "        'base': ''\n",
    "    }\n",
    "    while i < len(operator):\n",
    "        \n",
    "        if i == 0:\n",
    "            if len(operator) == len(operand):\n",
    "                if operator[i] == '-':   \n",
    "                    operation.append(operand[i+1]*-1)\n",
    "\n",
    "        if i > 0 and ope\n",
    "\n",
    "        i += 1   \n",
    "    \n",
    "\n",
    "    return operand, operator"
   ]
  },
  {
   "cell_type": "code",
   "execution_count": 26,
   "metadata": {},
   "outputs": [
    {
     "name": "stdout",
     "output_type": "stream",
     "text": [
      "122\n"
     ]
    }
   ],
   "source": []
  },
  {
   "cell_type": "code",
   "execution_count": 19,
   "metadata": {},
   "outputs": [
    {
     "name": "stdout",
     "output_type": "stream",
     "text": [
      "(['x', '3', '10', '2', '25', 'x', '250'], ['^', '-', '^', '-', '*', '+'])\n"
     ]
    }
   ],
   "source": [
    "print(getInputEquation(equation))"
   ]
  },
  {
   "cell_type": "code",
   "execution_count": 22,
   "metadata": {},
   "outputs": [
    {
     "name": "stdout",
     "output_type": "stream",
     "text": [
      "[['x', '^', 3], [-10, '^', 2], [-25, '*', 'x'], [250]]\n"
     ]
    }
   ],
   "source": [
    "oper = [\n",
    "    ['x','^',3],[-10,'^',2],[-25,'*','x'],[250]\n",
    "    ]\n",
    "print(oper)"
   ]
  },
  {
   "cell_type": "code",
   "execution_count": 36,
   "metadata": {},
   "outputs": [],
   "source": [
    "eq_data = [\n",
    "    {\n",
    "        'coef': 1,\n",
    "        'exp': 3,\n",
    "        'const': 0,\n",
    "        'base': 'x'\n",
    "    },\n",
    "    {\n",
    "        'coef': -25,\n",
    "        'exp': 1,\n",
    "        'const': 0,\n",
    "        'base': 'x'\n",
    "    },\n",
    "    {\n",
    "        'coef': 0,\n",
    "        'exp': 0,\n",
    "        'const': 150,\n",
    "        'base': ''\n",
    "    }\n",
    "]"
   ]
  },
  {
   "cell_type": "code",
   "execution_count": 37,
   "metadata": {},
   "outputs": [],
   "source": [
    "def getDerivativeEquation(eq_data):\n",
    "    derivative_eq_data = []\n",
    "    i = 0\n",
    "    while i < len(eq_data):\n",
    "\n",
    "        coef = eq_data[i]['coef']\n",
    "        exp = eq_data[i]['exp']\n",
    "        const = eq_data[i]['const']\n",
    "        base = eq_data[i]['base']\n",
    "\n",
    "        remove = False\n",
    "\n",
    "        if exp == 1:\n",
    "            const = coef\n",
    "            exp = 0 \n",
    "            coef = 0\n",
    "            base = ''\n",
    "        elif const != 0:\n",
    "            remove = True\n",
    "        else:\n",
    "            coef = coef*exp\n",
    "            exp -= 1\n",
    "            \n",
    "\n",
    "        if remove == False:\n",
    "            operation = {\n",
    "                'coef': coef,\n",
    "                'exp': exp,\n",
    "                'const': const,\n",
    "                'base': base\n",
    "            }\n",
    "            derivative_eq_data.append(operation)\n",
    "\n",
    "        \n",
    "        i += 1\n",
    "\n",
    "    return derivative_eq_data"
   ]
  },
  {
   "cell_type": "code",
   "execution_count": 38,
   "metadata": {},
   "outputs": [
    {
     "name": "stdout",
     "output_type": "stream",
     "text": [
      "[{'coef': 3, 'exp': 2, 'const': 0, 'base': 'x'}, {'coef': 0, 'exp': 0, 'const': -25, 'base': ''}]\n"
     ]
    }
   ],
   "source": [
    "d_eq_data = getDerivativeEquation(eq_data)\n",
    "print(d_eq_data)"
   ]
  },
  {
   "cell_type": "code",
   "execution_count": 41,
   "metadata": {},
   "outputs": [],
   "source": [
    "def countEquation(eq_data, x):\n",
    "    result = 0\n",
    "    for i in range(len(eq_data)):\n",
    "        coef = eq_data[i]['coef']\n",
    "        exp = eq_data[i]['exp']\n",
    "        const = eq_data[i]['const']\n",
    "        base = eq_data[i]['base']\n",
    "\n",
    "        if const != 0:\n",
    "            result += const\n",
    "        else:\n",
    "            result += coef*pow(x,exp)\n",
    "\n",
    "    return result"
   ]
  },
  {
   "cell_type": "code",
   "execution_count": 43,
   "metadata": {},
   "outputs": [
    {
     "name": "stdout",
     "output_type": "stream",
     "text": [
      "-162\n"
     ]
    }
   ],
   "source": [
    "equationRes = countEquation(eq_data, -8)\n",
    "print(equationRes)"
   ]
  },
  {
   "cell_type": "code",
   "execution_count": 39,
   "metadata": {},
   "outputs": [],
   "source": [
    "def countDerivative(d_eq_data, x):\n",
    "    result = 0\n",
    "    for i in range(len(d_eq_data)):\n",
    "        coef = d_eq_data[i]['coef']\n",
    "        exp = d_eq_data[i]['exp']\n",
    "        const = d_eq_data[i]['const']\n",
    "        base = d_eq_data[i]['base']\n",
    "\n",
    "        if const != 0:\n",
    "            result += const\n",
    "        else:\n",
    "            result += coef*pow(x,exp)\n",
    "\n",
    "    return result"
   ]
  },
  {
   "cell_type": "code",
   "execution_count": 40,
   "metadata": {},
   "outputs": [
    {
     "name": "stdout",
     "output_type": "stream",
     "text": [
      "167\n"
     ]
    }
   ],
   "source": [
    "derivative = countDerivative(d_eq_data,-8)\n",
    "print(derivative)"
   ]
  },
  {
   "cell_type": "code",
   "execution_count": 50,
   "metadata": {},
   "outputs": [],
   "source": [
    "def getNextX(equation,derivative,x):\n",
    "    y = equation\n",
    "    m = derivative\n",
    "    c = y - (m*x)\n",
    "\n",
    "    x_new = -c / m\n",
    "    return x_new"
   ]
  },
  {
   "cell_type": "code",
   "execution_count": 51,
   "metadata": {},
   "outputs": [
    {
     "name": "stdout",
     "output_type": "stream",
     "text": [
      "-7.029940119760479\n"
     ]
    }
   ],
   "source": [
    "newX = getNextX(equationRes,derivative,-8)\n",
    "print(newX)"
   ]
  },
  {
   "cell_type": "code",
   "execution_count": 52,
   "metadata": {},
   "outputs": [],
   "source": [
    "\n",
    "\n",
    "def rootSearch4thMethodPrototype(eq_data, x, iteration):\n",
    "    \n",
    "    d_eq_data = getDerivativeEquation(eq_data)\n",
    "    currentX = x\n",
    "\n",
    "    for i in range(iteration):\n",
    "        equation = countEquation(eq_data,currentX)\n",
    "        derivative = countDerivative(d_eq_data, currentX)\n",
    "        currentX = getNextX(equation, derivative, currentX)\n",
    "\n",
    "    return currentX\n"
   ]
  },
  {
   "cell_type": "code",
   "execution_count": 55,
   "metadata": {},
   "outputs": [
    {
     "name": "stdout",
     "output_type": "stream",
     "text": [
      "-6.848538718740781\n"
     ]
    }
   ],
   "source": [
    "root = rootSearch4thMethodPrototype(eq_data, -8, 100)\n",
    "print(root)"
   ]
  },
  {
   "cell_type": "code",
   "execution_count": null,
   "metadata": {},
   "outputs": [],
   "source": []
  }
 ],
 "metadata": {
  "interpreter": {
   "hash": "21f66d55e8ab1ecef01a23ca86f6b649e64e0ba5522e4326a5988c1ce361373a"
  },
  "kernelspec": {
   "display_name": "Python 3.9.10 64-bit",
   "language": "python",
   "name": "python3"
  },
  "language_info": {
   "codemirror_mode": {
    "name": "ipython",
    "version": 3
   },
   "file_extension": ".py",
   "mimetype": "text/x-python",
   "name": "python",
   "nbconvert_exporter": "python",
   "pygments_lexer": "ipython3",
   "version": "3.9.10"
  },
  "orig_nbformat": 4
 },
 "nbformat": 4,
 "nbformat_minor": 2
}
